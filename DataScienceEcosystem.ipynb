{
 "cells": [
  {
   "cell_type": "markdown",
   "id": "22573e88-4719-4e1f-a1f2-c0e52e87feaa",
   "metadata": {
    "tags": []
   },
   "source": [
    "<center>\n",
    "    <img src=\"https://cf-courses-data.s3.us.cloud-object-storage.appdomain.cloud/IBMDeveloperSkillsNetwork-DS0105EN-SkillsNetwork/labs/Module2/images/SN_web_lightmode.png\" width=\"300\" alt=\"cognitiveclass.ai logo\">\n",
    "</center>"
   ]
  },
  {
   "cell_type": "markdown",
   "id": "f7bfc6b5-7f78-46fd-99fa-a977245cb5ed",
   "metadata": {},
   "source": [
    "#### Add your code below following the instructions given in the course"
   ]
  },
  {
   "cell_type": "markdown",
   "id": "8d6ed8b3-04ab-422c-bced-6233be4cc44c",
   "metadata": {},
   "source": [
    "# Data Science Tools and Ecosystem"
   ]
  },
  {
   "cell_type": "markdown",
   "id": "bb2e160a-d06f-469e-863a-16bb383550ed",
   "metadata": {
    "jp-MarkdownHeadingCollapsed": true,
    "tags": []
   },
   "source": [
    "In this notebook, Data Science Tools and Ecosystem are summarized."
   ]
  },
  {
   "cell_type": "markdown",
   "id": "5a8b6935-7f37-489e-b5c4-36a06e18b466",
   "metadata": {},
   "source": [
    "**Objectives:**\n",
    "\n",
    "* List Popular languages for Data Science\n",
    "* Jupyter Notebooks\n",
    "* Programming in R using R Studio\n",
    "* Code & data asset management in GitHub"
   ]
  },
  {
   "cell_type": "markdown",
   "id": "aac6a95d-422d-430b-9dd3-649e61ed73d7",
   "metadata": {
    "tags": []
   },
   "source": [
    "\n",
    "Some of the popular languages that Data Scientists use are:\n",
    "\n",
    "    1. Python\n",
    "    2. SQL\n",
    "    3. R"
   ]
  },
  {
   "cell_type": "markdown",
   "id": "c7359aeb-ff66-41e0-9717-034103947b8a",
   "metadata": {
    "tags": []
   },
   "source": [
    "Some of the commonly used libraries used by Data Scientists include: \n",
    "    \n",
    "1. NumPy\n",
    "2. Pandas\n",
    "3. Plotly\n",
    "4. SciKit-learn"
   ]
  },
  {
   "cell_type": "markdown",
   "id": "9472fb3a-3f65-4a54-871a-aae07ce261d5",
   "metadata": {},
   "source": [
    "|Data Science Tools|\n",
    "|------|\n",
    "|Microsoft Visual Code|\n",
    "|Jupyter Lab Notebook|\n",
    "|Knime|"
   ]
  },
  {
   "cell_type": "markdown",
   "id": "e0150208-cc3b-450a-90ef-03be9b581756",
   "metadata": {},
   "source": [
    "### Below are a few examples of evaluating arithmetic expressions in Python"
   ]
  },
  {
   "cell_type": "code",
   "execution_count": 53,
   "id": "c71fd225-50f9-4659-8bde-2322c5c7a621",
   "metadata": {
    "tags": []
   },
   "outputs": [
    {
     "data": {
      "text/plain": [
       "17"
      ]
     },
     "execution_count": 53,
     "metadata": {},
     "output_type": "execute_result"
    }
   ],
   "source": [
    "#This is a simple arithmetic expression to multiply then add integers\n",
    "(3*4)+5"
   ]
  },
  {
   "cell_type": "code",
   "execution_count": 63,
   "id": "e844ffd3-b579-4aff-affe-abe488db356a",
   "metadata": {
    "tags": []
   },
   "outputs": [
    {
     "data": {
      "text/plain": [
       "3.33"
      ]
     },
     "execution_count": 63,
     "metadata": {},
     "output_type": "execute_result"
    }
   ],
   "source": [
    "# This will convert 200 minutes to hours by dividing by 60\n",
    "round(200/60,2)"
   ]
  },
  {
   "cell_type": "markdown",
   "id": "9b4c310f-e281-492a-b42e-d0d87f9a8510",
   "metadata": {},
   "source": [
    "## Author\n",
    "Chandi Kodthiwada"
   ]
  },
  {
   "cell_type": "code",
   "execution_count": null,
   "id": "885e35d4-8cf5-47dc-9884-b9d2f0a88e44",
   "metadata": {},
   "outputs": [],
   "source": []
  }
 ],
 "metadata": {
  "kernelspec": {
   "display_name": "Python 3 (ipykernel)",
   "language": "python",
   "name": "python3"
  },
  "language_info": {
   "codemirror_mode": {
    "name": "ipython",
    "version": 3
   },
   "file_extension": ".py",
   "mimetype": "text/x-python",
   "name": "python",
   "nbconvert_exporter": "python",
   "pygments_lexer": "ipython3",
   "version": "3.11.7"
  }
 },
 "nbformat": 4,
 "nbformat_minor": 5
}
